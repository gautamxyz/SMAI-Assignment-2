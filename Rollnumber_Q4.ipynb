{
 "cells": [
  {
   "cell_type": "markdown",
   "id": "improving-pepper",
   "metadata": {},
   "source": [
    "# Assignment 2 - Question 4\n",
    "The objective of this assignment is to get you familiarize with  the  problem  of  `Linear Regression`.\n",
    "\n",
    "## Instructions\n",
    "- Write your code and analysis in the indicated cells.\n",
    "- Ensure that this notebook runs without errors when the cells are run in sequence.\n",
    "- Do not attempt to change the contents of other cells.\n",
    "- No inbuilt functions to be used until specified\n",
    "\n",
    "## Submission\n",
    "- Ensure that this notebook runs without errors when the cells are run in sequence.\n",
    "- Rename the notebook to `<roll_number>_Q4.ipynb`.\n",
    "- Fill the Name and Roll number in the below markdown"
   ]
  },
  {
   "cell_type": "markdown",
   "id": "6f6269f1",
   "metadata": {},
   "source": [
    "Name: Gautam Ghai<br>\n",
    "Roll Number: 2020101020"
   ]
  },
  {
   "cell_type": "markdown",
   "id": "final-transaction",
   "metadata": {},
   "source": [
    "## Background about the dataset\n",
    "\n",
    "TLDR: You have 4 independent variables (`float`) for each molecule. You can use a linear combination of these 4 independent variables to predict the bandgap (dependent variable) of each molecule.\n",
    "\n",
    "You can read more about the problem in [Li et al, Bandgap tuning strategy by cations and halide ions of lead halide perovskites learned from machine learning, RSC Adv., 2021,11, 15688-15694](https://doi.org/10.1039/D1RA03117A)."
   ]
  },
  {
   "cell_type": "code",
   "execution_count": 1,
   "id": "lyric-olympus",
   "metadata": {},
   "outputs": [],
   "source": [
    "import csv\n",
    "import random\n",
    "import numpy as np"
   ]
  },
  {
   "cell_type": "code",
   "execution_count": 2,
   "id": "hundred-receipt",
   "metadata": {},
   "outputs": [],
   "source": [
    "all_molecules = list()\n",
    "\n",
    "with open('bg_data.txt', 'r') as infile:\n",
    "    input_rows = csv.DictReader(infile)\n",
    "    \n",
    "    for row in input_rows:\n",
    "        current_mol = ([float(row['Cs']), float(row['FA']), float(row['Cl']), float(row['Br'])], float(row['Bandgap']))\n",
    "        all_molecules.append(current_mol)\n",
    "\n",
    "random.shuffle(all_molecules)\n",
    "\n",
    "\n",
    "num_train = int(len(all_molecules) * 0.8)\n",
    "\n",
    "# each point in x_train has 4 values - 1 for each feature\n",
    "x_train = [x[0] for x in all_molecules[:num_train]]\n",
    "# each point in y_train has 1 value - the bandgap of the molecule\n",
    "y_train = [x[1] for x in all_molecules[:num_train]]\n",
    "\n",
    "x_test = [x[0] for x in all_molecules[num_train:]]\n",
    "y_test = [x[1] for x in all_molecules[num_train:]]"
   ]
  },
  {
   "cell_type": "markdown",
   "id": "square-direction",
   "metadata": {},
   "source": [
    "### 4.1 Implement a Linear Regression model that minimizes the MSE **without using any libraries**. You may use NumPy to vectorize your code, but *do not use numpy.polyfit* or anything similar.\n",
    "\n",
    "4.1.1 Explain how you plan to implement Linear Regression in 5-10 lines."
   ]
  },
  {
   "cell_type": "markdown",
   "id": "frozen-forth",
   "metadata": {},
   "source": [
    "<!-- your answer to 1.1.1 -->"
   ]
  },
  {
   "cell_type": "markdown",
   "id": "e2872b9b",
   "metadata": {},
   "source": [
    "To implement Linear Regression, we need to find the best fit line for the given data. We can do this by minimizing the mean squared error which can be done by finding the gradient of the error function and updating the weights and bias accordingly. This can be done by using the gradient descent algorithm. We can find the gradient of the error function by taking the partial derivative of the error function with respect to the weights and bias. We can then update the weights and bias by subtracting the gradient of the error function from the weights and bias. We can repeat this process until the error function is minimized."
   ]
  },
  {
   "cell_type": "markdown",
   "id": "addressed-winter",
   "metadata": {},
   "source": [
    "4.1.2 Implement Linear Regression using `x_train` and `y_train` as the train dataset.\n",
    "\n",
    "4.1.2.1 Choose the best learning rate and print the learning rate for which you achieved the best MSE."
   ]
  },
  {
   "cell_type": "code",
   "execution_count": 3,
   "id": "angry-depression",
   "metadata": {},
   "outputs": [
    {
     "name": "stdout",
     "output_type": "stream",
     "text": [
      "MSE for lr = 0.01 is 0.4274591255861069\n",
      "MSE for lr = 0.02 is 0.44133193587253067\n",
      "MSE for lr = 0.03 is 0.4439007593806204\n",
      "MSE for lr = 0.04 is 0.44450212363273506\n",
      "MSE for lr = 0.05 is 0.4446491291215068\n",
      "MSE for lr = 0.06 is 0.44468534601048687\n",
      "MSE for lr = 0.07 is 0.44469427970963926\n",
      "MSE for lr = 0.08 is 0.4446964832905457\n",
      "MSE for lr = 0.09 is 0.4446970266500359\n",
      "MSE for lr = 0.1 is 0.4446971605811823\n",
      "MSE for lr = 0.11 is 0.44469719358064036\n",
      "MSE for lr = 0.12 is 0.4446972017082296\n",
      "MSE for lr = 0.13 is 0.4446972037092255\n",
      "MSE for lr = 0.14 is 0.44469720420167286\n",
      "MSE for lr = 0.15 is 0.4446972043228174\n",
      "MSE for lr = 0.16 is 0.4446972043526074\n",
      "MSE for lr = 0.17 is 0.4446972043599302\n",
      "MSE for lr = 0.18 is 0.4446972043617297\n",
      "MSE for lr = 0.19 is 0.4446972043621714\n",
      "MSE for lr = 0.2 is 0.4446972043622797\n",
      "MSE for lr = 0.21 is 0.44469720436230575\n",
      "MSE for lr = 0.22 is 0.444697204362312\n",
      "MSE for lr = 0.23 is 0.44469720436231225\n",
      "MSE for lr = 0.24 is 0.44469720436231247\n",
      "MSE for lr = 0.25 is 0.4446972043623126\n",
      "MSE for lr = 0.26 is 0.4446972043623127\n",
      "MSE for lr = 0.27 is 0.4446972043623128\n",
      "MSE for lr = 0.28 is 0.44469720436231297\n",
      "MSE for lr = 0.29 is 0.444697204362313\n",
      "MSE for lr = 0.3 is 0.4446972043623131\n",
      "MSE for lr = 0.31 is 0.44469720436231314\n",
      "MSE for lr = 0.32 is 0.4446972043623132\n",
      "MSE for lr = 0.33 is 0.4446972043623133\n",
      "MSE for lr = 0.34 is 0.4446972043623134\n",
      "MSE for lr = 0.35000000000000003 is 0.4446972043623133\n",
      "MSE for lr = 0.36 is 0.4446972043623134\n",
      "MSE for lr = 0.37 is 0.4446972043623135\n",
      "MSE for lr = 0.38 is 0.4446972043623135\n",
      "MSE for lr = 0.39 is 0.44469720436231364\n",
      "MSE for lr = 0.4 is 0.44469720436231364\n",
      "MSE for lr = 0.41000000000000003 is 0.44469720436231375\n",
      "MSE for lr = 0.42 is 0.44469720436231375\n",
      "MSE for lr = 0.43 is 0.44469720436231375\n",
      "MSE for lr = 0.44 is 0.44469720436231386\n",
      "MSE for lr = 0.45 is 0.44469720436231386\n",
      "MSE for lr = 0.46 is 0.44469720436231386\n",
      "MSE for lr = 0.47000000000000003 is 0.44469720436231386\n",
      "MSE for lr = 0.48 is 0.44469720436231386\n",
      "MSE for lr = 0.49 is 0.444697204362314\n",
      "MSE for lr = 0.5 is 0.444697204362314\n",
      "MSE for lr = 0.51 is 0.444697204362314\n",
      "MSE for lr = 0.52 is 0.444697204362314\n",
      "MSE for lr = 0.53 is 0.44469720436231414\n",
      "MSE for lr = 0.54 is 0.44469720436231414\n",
      "MSE for lr = 0.55 is 0.44469720436231425\n",
      "MSE for lr = 0.56 is 0.44469720436231425\n",
      "MSE for lr = 0.5700000000000001 is 0.44469720436231414\n",
      "MSE for lr = 0.58 is 0.44469720436231425\n",
      "MSE for lr = 0.59 is 0.44469720436231425\n",
      "MSE for lr = 0.6 is 0.44469720436231436\n",
      "MSE for lr = 0.61 is 0.44469720436231436\n",
      "MSE for lr = 0.62 is 0.44469720436231436\n",
      "MSE for lr = 0.63 is 0.44469720436231436\n",
      "MSE for lr = 0.64 is 0.44469720436231436\n",
      "MSE for lr = 0.65 is 0.44469720436231436\n",
      "MSE for lr = 0.66 is 0.4446972043623144\n",
      "MSE for lr = 0.67 is 0.4446972043623144\n",
      "MSE for lr = 0.68 is 0.4446972043623144\n",
      "MSE for lr = 0.6900000000000001 is 0.4446972043623144\n",
      "MSE for lr = 0.7000000000000001 is 0.4446972043623144\n",
      "MSE for lr = 0.71 is 0.4446972043623144\n",
      "MSE for lr = 0.72 is 0.4446972043623144\n",
      "MSE for lr = 0.73 is 0.44469720436231447\n",
      "MSE for lr = 0.74 is 0.44469720436231447\n",
      "MSE for lr = 0.75 is 0.44469720436231447\n",
      "MSE for lr = 0.76 is 0.44469720436231447\n",
      "MSE for lr = 0.77 is 0.44469720436231447\n",
      "MSE for lr = 0.78 is 0.4446972043623145\n",
      "MSE for lr = 0.79 is 0.44469720436231464\n",
      "MSE for lr = 0.8 is 0.44469720436231464\n",
      "MSE for lr = 0.81 is 0.44469720436231464\n",
      "MSE for lr = 0.8200000000000001 is 0.44469720436231464\n",
      "MSE for lr = 0.8300000000000001 is 0.4446972043623146\n",
      "MSE for lr = 0.84 is 0.44469720436231464\n",
      "MSE for lr = 0.85 is 0.44469720436231464\n",
      "MSE for lr = 0.86 is 0.4446972043623146\n",
      "MSE for lr = 0.87 is 0.4446972043623146\n",
      "MSE for lr = 0.88 is 0.4446972043623146\n",
      "MSE for lr = 0.89 is 0.4446972043623146\n",
      "MSE for lr = 0.9 is 0.44469720436231464\n",
      "MSE for lr = 0.91 is 0.4446972043623146\n",
      "MSE for lr = 0.92 is 0.44469720436231464\n",
      "MSE for lr = 0.93 is 0.4446972043623147\n",
      "MSE for lr = 0.9400000000000001 is 0.4446972043623147\n",
      "MSE for lr = 0.9500000000000001 is 0.4446972043623147\n",
      "MSE for lr = 0.96 is 0.4446972043623147\n",
      "MSE for lr = 0.97 is 0.4446972043623147\n",
      "MSE for lr = 0.98 is 0.4446972043623148\n",
      "MSE for lr = 0.99 is 0.4446972043623148\n",
      "MSE for lr = 1.0 is 0.4446972043623148\n",
      "Minimum MSE is 0.4274591255861069 for lr = 0.01\n"
     ]
    }
   ],
   "source": [
    "import numpy as np\n",
    "def gradients(X, y, y_hat):\n",
    "    \n",
    "    # X - Input.\n",
    "    # y - true value.\n",
    "    # y_hat - predictions.\n",
    "    # w - weights \n",
    "    # b - bias     \n",
    "    # m - number of training examples.\n",
    "    m = X.shape[0]\n",
    "    \n",
    "    # Gradient of loss w.r.t weights.\n",
    "    dw = (1/m)*np.dot(X.T, (y_hat - y))\n",
    "    \n",
    "    # Gradient of loss w.r.t bias.\n",
    "    db = (1/m)*np.sum((y_hat - y)) \n",
    "    \n",
    "    return dw, db\n",
    "def normalize(X):\n",
    "    \n",
    "   \n",
    "    # n-> number of features \n",
    "    m, n = X.shape\n",
    "    \n",
    "    # Normalizing \n",
    "    for i in range(n):\n",
    "        X = (X - X.mean(axis=0))/X.std(axis=0)\n",
    "        \n",
    "    return X\n",
    "def train(X, y, bs, epochs, lr):\n",
    "\n",
    "    # bs --> Batch Size.\n",
    "    # epochs --> Number of iterations.\n",
    "    # lr --> Learning rate.\n",
    "        \n",
    "    # m-> number of training examples\n",
    "    # n-> number of features \n",
    "    m, n = X.shape\n",
    "    \n",
    "    # Initializing weights and bias to zeros.\n",
    "    w = np.zeros((n,1))\n",
    "    b = 0\n",
    "    \n",
    "    # Reshaping y.\n",
    "    y = y.reshape(m,1)\n",
    "    \n",
    "    # Normalizing the inputs.\n",
    "    x = normalize(X)\n",
    "    \n",
    "    \n",
    "    losses = []\n",
    "    \n",
    "    # Training loop.\n",
    "    for epoch in range(epochs):\n",
    "        for i in range((m-1)//bs + 1):\n",
    "            \n",
    "            # Defining batches. SGD.\n",
    "            start_i = i*bs\n",
    "            end_i = start_i + bs\n",
    "            xb = X[start_i:end_i]\n",
    "            yb = y[start_i:end_i]\n",
    "            \n",
    "            # Calculating hypothesis/prediction.\n",
    "            y_hat = np.dot(xb, w) + b\n",
    "            \n",
    "            # Getting the gradients of loss w.r.t parameters.\n",
    "            dw, db = gradients(xb, yb, y_hat)\n",
    "            \n",
    "            # Updating the parameters.\n",
    "            w -= lr*dw\n",
    "            b -= lr*db\n",
    "   \n",
    "    \n",
    "    return w, b\n",
    "    \n",
    "def mse(y_true, y_pred):\n",
    "    return np.mean((y_true - y_pred)**2)\n",
    "\n",
    "x_train = np.array(x_train)\n",
    "y_train = np.array(y_train)\n",
    "# w, b = train(x_train, y_train, bs=100, epochs=1000, lr=0.1)\n",
    "# print(w, b)\n",
    "\n",
    "\n",
    "\n",
    "mse_dict = dict()\n",
    "m, n = x_train.shape\n",
    "W=np.zeros((n,1))\n",
    "mse_val=100\n",
    "B=0\n",
    "for lr in range(1,101,1):\n",
    "    w, b = train(x_train, y_train, bs=100, epochs=5000, lr=lr*0.01)\n",
    "    y_pred = np.dot(x_test, w) + b\n",
    "    print(\"MSE for lr = {} is {}\".format(lr*0.01, mse(y_test, y_pred)))\n",
    "    mse_dict[lr*0.01] = mse(y_test, y_pred)\n",
    "    if mse_val > mse(y_test, y_pred):\n",
    "        mse_val = mse(y_test, y_pred)\n",
    "        W = w\n",
    "        B = b\n",
    "\n",
    "# print lr value with minimum mse\n",
    "print(\"Minimum MSE is {} for lr = {}\".format(min(mse_dict.values()), min(mse_dict, key=mse_dict.get)))\n",
    "w=W\n",
    "b=B\n"
   ]
  },
  {
   "cell_type": "markdown",
   "id": "angry-tampa",
   "metadata": {},
   "source": [
    "4.1.3 Make a [Parity Plot](https://en.wikipedia.org/wiki/Parity_plot) of your model's bandgap predictions on the test set with the actual values."
   ]
  },
  {
   "cell_type": "code",
   "execution_count": 4,
   "id": "foster-center",
   "metadata": {},
   "outputs": [
    {
     "data": {
      "image/png": "[encoded data removed]",
      "text/plain": [
       "<Figure size 720x1440 with 1 Axes>"
      ]
     },
     "metadata": {
      "needs_background": "light"
     },
     "output_type": "display_data"
    }
   ],
   "source": [
    "import matplotlib.pyplot as plt\n",
    "y_pred = np.dot(x_test, w) + b\n",
    "\n",
    "\n",
    "fig, ax = plt.subplots(figsize=(10,20))\n",
    "\n",
    "ax.scatter(y_test, y_pred)\n",
    "\n",
    "lims = [\n",
    "    np.min([ax.get_xlim(), ax.get_ylim()]),\n",
    "    np.max([ax.get_xlim(), ax.get_ylim()]),\n",
    "]\n",
    "ax.plot(lims, lims, 'k-', alpha=0.75, zorder=0)\n",
    "ax.set_aspect('equal')\n",
    "ax.set_xlim(lims)\n",
    "ax.set_ylim(lims)\n",
    "\n",
    "ax.set_title('Parity Plot of Custom Linear Regression')\n",
    "ax.set_xlabel('Ground truth bandgap values')\n",
    "ax.set_ylabel('Predicted bandgap values')\n",
    "plt.show()"
   ]
  },
  {
   "cell_type": "markdown",
   "id": "dominant-chaos",
   "metadata": {},
   "source": [
    "### 4.2 Implement Ridge regression\n",
    "4.2.1 Explain Ridge regression briefly in 1-2 lines."
   ]
  },
  {
   "cell_type": "markdown",
   "id": "6670d1e2",
   "metadata": {},
   "source": [
    "Ridge Regression is a type of linear regression where the loss function is modified to reduce the complexity of the model. It is done by adding a penalty term to the loss function. The penalty term is the sum of the squares of the coefficients. This is done to prevent overfitting."
   ]
  },
  {
   "cell_type": "markdown",
   "id": "happy-cyprus",
   "metadata": {},
   "source": [
    "<!-- Your answer to 1.2.1 -->"
   ]
  },
  {
   "cell_type": "markdown",
   "id": "tight-forwarding",
   "metadata": {},
   "source": [
    "4.2.2 Implement Ridge regression and make a table of different RMSE scores you achieved with different values of alpha. What does the parameter `alpha` do? How does it affect the results here? Explain in 5-10 lines in total. (You can use scikit-learn from this cell onwards)"
   ]
  },
  {
   "cell_type": "markdown",
   "id": "14b73f07",
   "metadata": {},
   "source": [
    "The parameter alpha is the regularization parameter. It is used to control the complexity of the model. It is used to prevent overfitting. The higher the value of alpha, the more the model is penalized for having high coefficients. This results in a model with lower complexity and hence lower RMSE."
   ]
  },
  {
   "cell_type": "code",
   "execution_count": 5,
   "id": "violent-northern",
   "metadata": {},
   "outputs": [
    {
     "name": "stdout",
     "output_type": "stream",
     "text": [
      "alpha =  0.0 RMSE =  0.11789333386895036 Ridge score =  0.9393408079373544\n",
      "alpha =  0.01 RMSE =  0.11775775658839209 Ridge score =  0.939480243802438\n",
      "alpha =  0.02 RMSE =  0.11763451492589243 Ridge score =  0.9396068537623421\n",
      "alpha =  0.03 RMSE =  0.1175234151293499 Ridge score =  0.9397208763822354\n",
      "alpha =  0.04 RMSE =  0.11742426341959324 Ridge score =  0.9398225456015987\n",
      "alpha =  0.05 RMSE =  0.11733686609135845 Ridge score =  0.9399120908344047\n",
      "alpha =  0.06 RMSE =  0.11726102961387694 Ridge score =  0.939989737066864\n",
      "alpha =  0.07 RMSE =  0.11719656073079943 Ridge score =  0.9400557049528\n",
      "alpha =  0.08 RMSE =  0.11714326655919431 Ridge score =  0.9401102109067205\n",
      "alpha =  0.09 RMSE =  0.11710095468737171 Ridge score =  0.9401534671946444\n",
      "alpha =  0.1 RMSE =  0.11706943327129436 Ridge score =  0.9401856820227465\n",
      "alpha =  0.11 RMSE =  0.1170485111293534 Ridge score =  0.9402070596238772\n",
      "alpha =  0.12 RMSE =  0.11703799783529793 Ridge score =  0.9402178003420153\n",
      "alpha =  0.13 RMSE =  0.11703770380912479 Ridge score =  0.9402181007147085\n",
      "alpha =  0.14 RMSE =  0.11704744040574597 Ridge score =  0.9402081535535542\n",
      "alpha =  0.15 RMSE =  0.1170670200012702 Ridge score =  0.9401881480227734\n",
      "alpha =  0.16 RMSE =  0.11709625607674515 Ridge score =  0.9401582697159279\n",
      "alpha =  0.17 RMSE =  0.11713496329922632 Ridge score =  0.9401187007308298\n",
      "alpha =  0.18 RMSE =  0.11718295760005 Ridge score =  0.9400696197426914\n",
      "alpha =  0.19 RMSE =  0.1172400562502053 Ridge score =  0.9400112020755587\n",
      "alpha =  0.2 RMSE =  0.11730607793271097 Ridge score =  0.9399436197720775\n",
      "alpha =  0.21 RMSE =  0.11738084281192102 Ridge score =  0.9398670416616336\n",
      "alpha =  0.22 RMSE =  0.11746417259969343 Ridge score =  0.9397816334269069\n",
      "alpha =  0.23 RMSE =  0.11755589061837173 Ridge score =  0.9396875576688855\n",
      "alpha =  0.24 RMSE =  0.11765582186054054 Ridge score =  0.9395849739703752\n",
      "alpha =  0.25 RMSE =  0.1177637930455294 Ridge score =  0.9394740389580454\n",
      "alpha =  0.26 RMSE =  0.1178796326726511 Ridge score =  0.9393549063630482\n",
      "alpha =  0.27 RMSE =  0.11800317107117068 Ridge score =  0.9392277270802474\n",
      "alpha =  0.28 RMSE =  0.11813424044701298 Ridge score =  0.9390926492260928\n",
      "alpha =  0.29 RMSE =  0.11827267492622613 Ridge score =  0.938949818195175\n",
      "alpha =  0.3 RMSE =  0.11841831059522752 Ridge score =  0.9387993767154927\n",
      "alpha =  0.31 RMSE =  0.11857098553786728 Ridge score =  0.9386414649024668\n",
      "alpha =  0.32 RMSE =  0.11873053986935317 Ridge score =  0.9384762203117313\n",
      "alpha =  0.33 RMSE =  0.11889681576708626 Ridge score =  0.9383037779907341\n",
      "alpha =  0.34 RMSE =  0.11906965749846617 Ridge score =  0.9381242705291739\n",
      "alpha =  0.35000000000000003 RMSE =  0.11924891144572712 Ridge score =  0.9379378281083078\n",
      "alpha =  0.36 RMSE =  0.11943442612787515 Ridge score =  0.9377445785491514\n",
      "alpha =  0.37 RMSE =  0.11962605221979997 Ridge score =  0.9375446473596036\n",
      "alpha =  0.38 RMSE =  0.11982364256863683 Ridge score =  0.937338157780523\n",
      "alpha =  0.39 RMSE =  0.12002705220746339 Ridge score =  0.9371252308307768\n",
      "alpha =  0.4 RMSE =  0.1202361383664126 Ridge score =  0.9369059853512949\n",
      "alpha =  0.41000000000000003 RMSE =  0.12045076048129091 Ridge score =  0.9366805380481473\n",
      "alpha =  0.42 RMSE =  0.12067078019979119 Ridge score =  0.9364490035346722\n",
      "alpha =  0.43 RMSE =  0.12089606138538794 Ridge score =  0.9362114943726786\n",
      "alpha =  0.44 RMSE =  0.1211264701190121 Ridge score =  0.9359681211127423\n",
      "alpha =  0.45 RMSE =  0.12136187469859334 Ridge score =  0.9357189923336225\n",
      "alpha =  0.46 RMSE =  0.12160214563656631 Ridge score =  0.9354642146808158\n",
      "alpha =  0.47000000000000003 RMSE =  0.12184715565543239 Ridge score =  0.9352038929042715\n",
      "alpha =  0.48 RMSE =  0.1220967796814711 Ridge score =  0.9349381298952877\n",
      "alpha =  0.49 RMSE =  0.12235089483669315 Ridge score =  0.9346670267226064\n",
      "alpha =  0.5 RMSE =  0.12260938042912556 Ridge score =  0.9343906826677307\n",
      "alpha =  0.51 RMSE =  0.12287211794152196 Ridge score =  0.934109195259478\n",
      "alpha =  0.52 RMSE =  0.12313899101858491 Ridge score =  0.9338226603077905\n",
      "alpha =  0.53 RMSE =  0.12340988545278793 Ridge score =  0.9335311719368218\n",
      "alpha =  0.54 RMSE =  0.12368468916888467 Ridge score =  0.9332348226173123\n",
      "alpha =  0.55 RMSE =  0.12396329220718735 Ridge score =  0.9329337031982756\n",
      "alpha =  0.56 RMSE =  0.12424558670569784 Ridge score =  0.9326279029380088\n",
      "alpha =  0.5700000000000001 RMSE =  0.12453146688116973 Ridge score =  0.9323175095344434\n",
      "alpha =  0.58 RMSE =  0.1248208290091803 Ridge score =  0.9320026091548528\n",
      "alpha =  0.59 RMSE =  0.1251135714032862 Ridge score =  0.931683286464933\n",
      "alpha =  0.6 RMSE =  0.12540959439333704 Ridge score =  0.9313596246572667\n",
      "alpha =  0.61 RMSE =  0.12570880030301573 Ridge score =  0.9310317054791908\n",
      "alpha =  0.62 RMSE =  0.1260110934266746 Ridge score =  0.9306996092600767\n",
      "alpha =  0.63 RMSE =  0.1263163800055318 Ridge score =  0.9303634149380406\n",
      "alpha =  0.64 RMSE =  0.12662456820329124 Ridge score =  0.9300232000860941\n",
      "alpha =  0.65 RMSE =  0.1269355680812458 Ridge score =  0.92967904093775\n",
      "alpha =  0.66 RMSE =  0.12724929157292145 Ridge score =  0.9293310124120958\n",
      "alpha =  0.67 RMSE =  0.127565652458319 Ridge score =  0.9289791881383453\n",
      "alpha =  0.68 RMSE =  0.12788456633780315 Ridge score =  0.9286236404798833\n",
      "alpha =  0.6900000000000001 RMSE =  0.12820595060569234 Ridge score =  0.928264440557812\n",
      "alpha =  0.7000000000000001 RMSE =  0.12852972442359414 Ridge score =  0.927901658274013\n",
      "alpha =  0.71 RMSE =  0.12885580869353408 Ridge score =  0.9275353623337356\n",
      "alpha =  0.72 RMSE =  0.12918412603092008 Ridge score =  0.9271656202677181\n",
      "alpha =  0.73 RMSE =  0.12951460073738172 Ridge score =  0.9267924984538612\n",
      "alpha =  0.74 RMSE =  0.12984715877352634 Ridge score =  0.9264160621384544\n",
      "alpha =  0.75 RMSE =  0.13018172773164421 Ridge score =  0.9260363754569717\n",
      "alpha =  0.76 RMSE =  0.13051823680840055 Ridge score =  0.9256535014544447\n",
      "alpha =  0.77 RMSE =  0.13085661677754548 Ridge score =  0.9252675021054199\n",
      "alpha =  0.78 RMSE =  0.1311967999626699 Ridge score =  0.9248784383335156\n",
      "alpha =  0.79 RMSE =  0.13153872021004007 Ridge score =  0.9244863700305803\n",
      "alpha =  0.8 RMSE =  0.1318823128615334 Ridge score =  0.9240913560754671\n",
      "alpha =  0.81 RMSE =  0.1322275147277027 Ridge score =  0.9236934543524293\n",
      "alpha =  0.8200000000000001 RMSE =  0.13257426406098988 Ridge score =  0.9232927217691471\n",
      "alpha =  0.8300000000000001 RMSE =  0.13292250052911259 Ridge score =  0.9228892142743943\n",
      "alpha =  0.84 RMSE =  0.13327216518864235 Ridge score =  0.9224829868753497\n",
      "alpha =  0.85 RMSE =  0.1336232004587914 Ridge score =  0.9220740936545667\n",
      "alpha =  0.86 RMSE =  0.13397555009542897 Ridge score =  0.9216625877866017\n",
      "alpha =  0.87 RMSE =  0.13432915916533703 Ridge score =  0.9212485215543151\n",
      "alpha =  0.88 RMSE =  0.13468397402072443 Ridge score =  0.9208319463648481\n",
      "alpha =  0.89 RMSE =  0.1350399422740095 Ridge score =  0.9204129127652841\n",
      "alpha =  0.9 RMSE =  0.13539701277288457 Ridge score =  0.9199914704580009\n",
      "alpha =  0.91 RMSE =  0.13575513557567076 Ridge score =  0.9195676683157211\n",
      "alpha =  0.92 RMSE =  0.1361142619269753 Ridge score =  0.9191415543962671\n",
      "alpha =  0.93 RMSE =  0.13647434423365815 Ridge score =  0.9187131759570257\n",
      "alpha =  0.9400000000000001 RMSE =  0.13683533604111542 Ridge score =  0.9182825794691315\n",
      "alpha =  0.9500000000000001 RMSE =  0.13719719200988661 Ridge score =  0.9178498106313725\n",
      "alpha =  0.96 RMSE =  0.13755986789259206 Ridge score =  0.9174149143838248\n",
      "alpha =  0.97 RMSE =  0.13792332051120418 Ridge score =  0.9169779349212228\n",
      "alpha =  0.98 RMSE =  0.138287507734658 Ridge score =  0.9165389157060697\n",
      "alpha =  0.99 RMSE =  0.1386523884568029 Ridge score =  0.9160978994814947\n",
      "alpha =  1.0 RMSE =  0.1390179225747002 Ridge score =  0.9156549282838612\n"
     ]
    },
    {
     "data": {
      "image/png": "[encoded data removed]",
      "text/plain": [
       "<Figure size 432x288 with 1 Axes>"
      ]
     },
     "metadata": {
      "needs_background": "light"
     },
     "output_type": "display_data"
    },
    {
     "data": {
      "image/png": "[encoded data removed]",
      "text/plain": [
       "<Figure size 432x288 with 1 Axes>"
      ]
     },
     "metadata": {
      "needs_background": "light"
     },
     "output_type": "display_data"
    }
   ],
   "source": [
    "\n",
    "from sklearn.linear_model import Ridge\n",
    "from sklearn.metrics import mean_squared_error\n",
    "from math import sqrt\n",
    "\n",
    "\n",
    "alphas=[]\n",
    "rmses=[]\n",
    "rdgs=[]\n",
    "for i in range(0,101):\n",
    "    rdg = Ridge(alpha = 0.01*i)\n",
    "    rdg.fit(x_train, y_train)\n",
    "    y_pred = rdg.predict(x_test)\n",
    "    rms = sqrt(mean_squared_error(y_test, y_pred))\n",
    "    print(\"alpha = \", 0.01*i, \"RMSE = \", rms, \"Ridge score = \", rdg.score(x_test, y_test))\n",
    "    alphas.append(0.01*i)\n",
    "    rmses.append(rms)\n",
    "    rdgs.append(rdg.score(x_test, y_test))\n",
    "\n",
    "plt.plot(alphas, rmses)\n",
    "plt.xlabel(\"alpha\")\n",
    "plt.ylabel(\"RMSE\")\n",
    "plt.show()\n",
    "\n",
    "plt.plot(alphas, rdgs)\n",
    "plt.xlabel(\"alpha\")\n",
    "plt.ylabel(\"Ridge score\")\n",
    "plt.show()\n",
    "\n"
   ]
  },
  {
   "cell_type": "markdown",
   "id": "adolescent-temperature",
   "metadata": {},
   "source": [
    "### 4.3 Implement Lasso regression\n",
    "4.3.1 Explain Lasso regression briefly in 1-2 lines."
   ]
  },
  {
   "cell_type": "markdown",
   "id": "0695e548",
   "metadata": {},
   "source": [
    "Lasso Regression is a type of linear regression where the loss function is modified to reduce the complexity of the model. It is done by adding a penalty term to the loss function. The penalty term is the sum of the absolute values of the coefficients. This is done to prevent overfitting."
   ]
  },
  {
   "cell_type": "markdown",
   "id": "popular-wonder",
   "metadata": {},
   "source": [
    "4.3.2 Implement Lasso regression and make a table of different RMSE scores you achieved with different values of alpha. What does the parameter `alpha` do? How does it affect the results here? Explain in 5-10 lines in total."
   ]
  },
  {
   "cell_type": "markdown",
   "id": "12564fcb",
   "metadata": {},
   "source": [
    "The parameter alpha is the regularization parameter. It is used to control the complexity of the model. It is used to prevent overfitting. The higher the value of alpha, the more the model is penalized for having high coefficients. This results in a model with lower complexity and hence lower RMSE."
   ]
  },
  {
   "cell_type": "code",
   "execution_count": 6,
   "id": "extra-brighton",
   "metadata": {},
   "outputs": [
    {
     "name": "stdout",
     "output_type": "stream",
     "text": [
      "alpha =  0.01 RMSE =  0.12612535858830703 Lasso score =  0.9305738709558882\n",
      "alpha =  0.02 RMSE =  0.16145166159926083 Lasso score =  0.8862364433547084\n",
      "alpha =  0.03 RMSE =  0.21073748338546983 Lasso score =  0.806178610776461\n",
      "alpha =  0.04 RMSE =  0.2663426456551049 Lasso score =  0.6904010051590465\n",
      "alpha =  0.05 RMSE =  0.3065250457527766 Lasso score =  0.589937500028485\n",
      "alpha =  0.06 RMSE =  0.33994963067612044 Lasso score =  0.49563229503569406\n",
      "alpha =  0.07 RMSE =  0.3772815961705579 Lasso score =  0.3787743705342621\n",
      "alpha =  0.08 RMSE =  0.4174740206411194 Lasso score =  0.23936372652418803\n",
      "alpha =  0.09 RMSE =  0.4597773555761568 Lasso score =  0.07740036300547404\n",
      "alpha =  0.1 RMSE =  0.48659884809518306 Lasso score =  -0.033380533623855735\n",
      "alpha =  0.11 RMSE =  0.48659884809518306 Lasso score =  -0.033380533623855735\n",
      "alpha =  0.12 RMSE =  0.48659884809518306 Lasso score =  -0.033380533623855735\n",
      "alpha =  0.13 RMSE =  0.48659884809518306 Lasso score =  -0.033380533623855735\n",
      "alpha =  0.14 RMSE =  0.48659884809518306 Lasso score =  -0.033380533623855735\n",
      "alpha =  0.15 RMSE =  0.48659884809518306 Lasso score =  -0.033380533623855735\n",
      "alpha =  0.16 RMSE =  0.48659884809518306 Lasso score =  -0.033380533623855735\n",
      "alpha =  0.17 RMSE =  0.48659884809518306 Lasso score =  -0.033380533623855735\n",
      "alpha =  0.18 RMSE =  0.48659884809518306 Lasso score =  -0.033380533623855735\n",
      "alpha =  0.19 RMSE =  0.48659884809518306 Lasso score =  -0.033380533623855735\n",
      "alpha =  0.2 RMSE =  0.48659884809518306 Lasso score =  -0.033380533623855735\n",
      "alpha =  0.21 RMSE =  0.48659884809518306 Lasso score =  -0.033380533623855735\n",
      "alpha =  0.22 RMSE =  0.48659884809518306 Lasso score =  -0.033380533623855735\n",
      "alpha =  0.23 RMSE =  0.48659884809518306 Lasso score =  -0.033380533623855735\n",
      "alpha =  0.24 RMSE =  0.48659884809518306 Lasso score =  -0.033380533623855735\n",
      "alpha =  0.25 RMSE =  0.48659884809518306 Lasso score =  -0.033380533623855735\n",
      "alpha =  0.26 RMSE =  0.48659884809518306 Lasso score =  -0.033380533623855735\n",
      "alpha =  0.27 RMSE =  0.48659884809518306 Lasso score =  -0.033380533623855735\n",
      "alpha =  0.28 RMSE =  0.48659884809518306 Lasso score =  -0.033380533623855735\n",
      "alpha =  0.29 RMSE =  0.48659884809518306 Lasso score =  -0.033380533623855735\n",
      "alpha =  0.3 RMSE =  0.48659884809518306 Lasso score =  -0.033380533623855735\n",
      "alpha =  0.31 RMSE =  0.48659884809518306 Lasso score =  -0.033380533623855735\n",
      "alpha =  0.32 RMSE =  0.48659884809518306 Lasso score =  -0.033380533623855735\n",
      "alpha =  0.33 RMSE =  0.48659884809518306 Lasso score =  -0.033380533623855735\n",
      "alpha =  0.34 RMSE =  0.48659884809518306 Lasso score =  -0.033380533623855735\n",
      "alpha =  0.35000000000000003 RMSE =  0.48659884809518306 Lasso score =  -0.033380533623855735\n",
      "alpha =  0.36 RMSE =  0.48659884809518306 Lasso score =  -0.033380533623855735\n",
      "alpha =  0.37 RMSE =  0.48659884809518306 Lasso score =  -0.033380533623855735\n",
      "alpha =  0.38 RMSE =  0.48659884809518306 Lasso score =  -0.033380533623855735\n",
      "alpha =  0.39 RMSE =  0.48659884809518306 Lasso score =  -0.033380533623855735\n",
      "alpha =  0.4 RMSE =  0.48659884809518306 Lasso score =  -0.033380533623855735\n",
      "alpha =  0.41000000000000003 RMSE =  0.48659884809518306 Lasso score =  -0.033380533623855735\n",
      "alpha =  0.42 RMSE =  0.48659884809518306 Lasso score =  -0.033380533623855735\n",
      "alpha =  0.43 RMSE =  0.48659884809518306 Lasso score =  -0.033380533623855735\n",
      "alpha =  0.44 RMSE =  0.48659884809518306 Lasso score =  -0.033380533623855735\n",
      "alpha =  0.45 RMSE =  0.48659884809518306 Lasso score =  -0.033380533623855735\n",
      "alpha =  0.46 RMSE =  0.48659884809518306 Lasso score =  -0.033380533623855735\n",
      "alpha =  0.47000000000000003 RMSE =  0.48659884809518306 Lasso score =  -0.033380533623855735\n",
      "alpha =  0.48 RMSE =  0.48659884809518306 Lasso score =  -0.033380533623855735\n",
      "alpha =  0.49 RMSE =  0.48659884809518306 Lasso score =  -0.033380533623855735\n",
      "alpha =  0.5 RMSE =  0.48659884809518306 Lasso score =  -0.033380533623855735\n",
      "alpha =  0.51 RMSE =  0.48659884809518306 Lasso score =  -0.033380533623855735\n",
      "alpha =  0.52 RMSE =  0.48659884809518306 Lasso score =  -0.033380533623855735\n",
      "alpha =  0.53 RMSE =  0.48659884809518306 Lasso score =  -0.033380533623855735\n",
      "alpha =  0.54 RMSE =  0.48659884809518306 Lasso score =  -0.033380533623855735\n",
      "alpha =  0.55 RMSE =  0.48659884809518306 Lasso score =  -0.033380533623855735\n",
      "alpha =  0.56 RMSE =  0.48659884809518306 Lasso score =  -0.033380533623855735\n",
      "alpha =  0.5700000000000001 RMSE =  0.48659884809518306 Lasso score =  -0.033380533623855735\n",
      "alpha =  0.58 RMSE =  0.48659884809518306 Lasso score =  -0.033380533623855735\n",
      "alpha =  0.59 RMSE =  0.48659884809518306 Lasso score =  -0.033380533623855735\n",
      "alpha =  0.6 RMSE =  0.48659884809518306 Lasso score =  -0.033380533623855735\n",
      "alpha =  0.61 RMSE =  0.48659884809518306 Lasso score =  -0.033380533623855735\n",
      "alpha =  0.62 RMSE =  0.48659884809518306 Lasso score =  -0.033380533623855735\n",
      "alpha =  0.63 RMSE =  0.48659884809518306 Lasso score =  -0.033380533623855735\n",
      "alpha =  0.64 RMSE =  0.48659884809518306 Lasso score =  -0.033380533623855735\n",
      "alpha =  0.65 RMSE =  0.48659884809518306 Lasso score =  -0.033380533623855735\n",
      "alpha =  0.66 RMSE =  0.48659884809518306 Lasso score =  -0.033380533623855735\n",
      "alpha =  0.67 RMSE =  0.48659884809518306 Lasso score =  -0.033380533623855735\n",
      "alpha =  0.68 RMSE =  0.48659884809518306 Lasso score =  -0.033380533623855735\n",
      "alpha =  0.6900000000000001 RMSE =  0.48659884809518306 Lasso score =  -0.033380533623855735\n",
      "alpha =  0.7000000000000001 RMSE =  0.48659884809518306 Lasso score =  -0.033380533623855735\n",
      "alpha =  0.71 RMSE =  0.48659884809518306 Lasso score =  -0.033380533623855735\n",
      "alpha =  0.72 RMSE =  0.48659884809518306 Lasso score =  -0.033380533623855735\n",
      "alpha =  0.73 RMSE =  0.48659884809518306 Lasso score =  -0.033380533623855735\n",
      "alpha =  0.74 RMSE =  0.48659884809518306 Lasso score =  -0.033380533623855735\n",
      "alpha =  0.75 RMSE =  0.48659884809518306 Lasso score =  -0.033380533623855735\n",
      "alpha =  0.76 RMSE =  0.48659884809518306 Lasso score =  -0.033380533623855735\n",
      "alpha =  0.77 RMSE =  0.48659884809518306 Lasso score =  -0.033380533623855735\n",
      "alpha =  0.78 RMSE =  0.48659884809518306 Lasso score =  -0.033380533623855735\n",
      "alpha =  0.79 RMSE =  0.48659884809518306 Lasso score =  -0.033380533623855735\n",
      "alpha =  0.8 RMSE =  0.48659884809518306 Lasso score =  -0.033380533623855735\n",
      "alpha =  0.81 RMSE =  0.48659884809518306 Lasso score =  -0.033380533623855735\n",
      "alpha =  0.8200000000000001 RMSE =  0.48659884809518306 Lasso score =  -0.033380533623855735\n",
      "alpha =  0.8300000000000001 RMSE =  0.48659884809518306 Lasso score =  -0.033380533623855735\n",
      "alpha =  0.84 RMSE =  0.48659884809518306 Lasso score =  -0.033380533623855735\n",
      "alpha =  0.85 RMSE =  0.48659884809518306 Lasso score =  -0.033380533623855735\n",
      "alpha =  0.86 RMSE =  0.48659884809518306 Lasso score =  -0.033380533623855735\n",
      "alpha =  0.87 RMSE =  0.48659884809518306 Lasso score =  -0.033380533623855735\n",
      "alpha =  0.88 RMSE =  0.48659884809518306 Lasso score =  -0.033380533623855735\n",
      "alpha =  0.89 RMSE =  0.48659884809518306 Lasso score =  -0.033380533623855735\n",
      "alpha =  0.9 RMSE =  0.48659884809518306 Lasso score =  -0.033380533623855735\n",
      "alpha =  0.91 RMSE =  0.48659884809518306 Lasso score =  -0.033380533623855735\n",
      "alpha =  0.92 RMSE =  0.48659884809518306 Lasso score =  -0.033380533623855735\n",
      "alpha =  0.93 RMSE =  0.48659884809518306 Lasso score =  -0.033380533623855735\n",
      "alpha =  0.9400000000000001 RMSE =  0.48659884809518306 Lasso score =  -0.033380533623855735\n",
      "alpha =  0.9500000000000001 RMSE =  0.48659884809518306 Lasso score =  -0.033380533623855735\n",
      "alpha =  0.96 RMSE =  0.48659884809518306 Lasso score =  -0.033380533623855735\n",
      "alpha =  0.97 RMSE =  0.48659884809518306 Lasso score =  -0.033380533623855735\n",
      "alpha =  0.98 RMSE =  0.48659884809518306 Lasso score =  -0.033380533623855735\n",
      "alpha =  0.99 RMSE =  0.48659884809518306 Lasso score =  -0.033380533623855735\n",
      "alpha =  1.0 RMSE =  0.48659884809518306 Lasso score =  -0.033380533623855735\n"
     ]
    }
   ],
   "source": [
    "from sklearn.linear_model import Lasso\n",
    "\n",
    "\n",
    "alphas=[]\n",
    "rmses=[]\n",
    "lassos=[]\n",
    "for i in range(1,101):\n",
    "    lasso = Lasso(alpha = 0.01*i)\n",
    "    lasso.fit(x_train, y_train)\n",
    "    y_pred = lasso.predict(x_test)\n",
    "    rms = sqrt(mean_squared_error(y_test, y_pred))\n",
    "    print(\"alpha = \", 0.01*i, \"RMSE = \", rms, \"Lasso score = \", lasso.score(x_test, y_test))\n",
    "    alphas.append(0.01*i)\n",
    "    rmses.append(rms)\n",
    "    lassos.append(lasso.score(x_test, y_test))\n",
    "\n",
    "\n"
   ]
  },
  {
   "cell_type": "code",
   "execution_count": 7,
   "id": "accompanied-worst",
   "metadata": {},
   "outputs": [
    {
     "data": {
      "image/png": "[encoded data removed]",
      "text/plain": [
       "<Figure size 432x288 with 1 Axes>"
      ]
     },
     "metadata": {
      "needs_background": "light"
     },
     "output_type": "display_data"
    },
    {
     "data": {
      "image/png": "[encoded data removed]",
      "text/plain": [
       "<Figure size 432x288 with 1 Axes>"
      ]
     },
     "metadata": {
      "needs_background": "light"
     },
     "output_type": "display_data"
    }
   ],
   "source": [
    "plt.plot(alphas, rmses)\n",
    "plt.xlabel(\"alpha\")\n",
    "plt.ylabel(\"RMSE\")\n",
    "plt.show()\n",
    "\n",
    "plt.plot(alphas, lassos)\n",
    "plt.xlabel(\"alpha\")\n",
    "plt.ylabel(\"Lasso score\")\n",
    "plt.show()"
   ]
  }
 ],
 "metadata": {
  "kernelspec": {
   "display_name": "Python 3.8.10 64-bit",
   "language": "python",
   "name": "python3"
  },
  "language_info": {
   "codemirror_mode": {
    "name": "ipython",
    "version": 3
   },
   "file_extension": ".py",
   "mimetype": "text/x-python",
   "name": "python",
   "nbconvert_exporter": "python",
   "pygments_lexer": "ipython3",
   "version": "3.8.10"
  },
  "vscode": {
   "interpreter": {
    "hash": "916dbcbb3f70747c44a77c7bcd40155683ae19c65e1c03b4aa3499c5328201f1"
   }
  }
 },
 "nbformat": 4,
 "nbformat_minor": 5
}
